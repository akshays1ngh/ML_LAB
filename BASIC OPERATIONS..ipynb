{
 "cells": [
  {
   "cell_type": "code",
   "execution_count": 1,
   "id": "1ec8b3e5",
   "metadata": {},
   "outputs": [],
   "source": [
    "import pandas as pd\n",
    "import matplotlib.pyplot as plt"
   ]
  },
  {
   "cell_type": "code",
   "execution_count": 12,
   "id": "1be06d2d",
   "metadata": {},
   "outputs": [
    {
     "data": {
      "text/plain": [
       "{'Name': ['Akshay', 'Anit', 'Rahul', 'Amit', 'Saptarshi', 'Yuvika'],\n",
       " 'Marks': [90, 91, 92, 93, 95, 96],\n",
       " 'Branch': ['DSE', 'CSE', 'EEE', 'ECE', 'EEE', 'BIO']}"
      ]
     },
     "execution_count": 12,
     "metadata": {},
     "output_type": "execute_result"
    }
   ],
   "source": [
    "##CREATING A DATAFRAME\n",
    "\n",
    "df1={'Name':[\"Akshay\",\"Anit\",\"Rahul\",\"Amit\",\"Saptarshi\",\"Yuvika\"],\n",
    "    'Marks':[90,91,92,93,95,96],\n",
    "    'Branch':['DSE','CSE','EEE','ECE','EEE','BIO']\n",
    "    \n",
    "}\n",
    "df1"
   ]
  },
  {
   "cell_type": "code",
   "execution_count": 15,
   "id": "e62b3c2c",
   "metadata": {},
   "outputs": [
    {
     "data": {
      "text/html": [
       "<div>\n",
       "<style scoped>\n",
       "    .dataframe tbody tr th:only-of-type {\n",
       "        vertical-align: middle;\n",
       "    }\n",
       "\n",
       "    .dataframe tbody tr th {\n",
       "        vertical-align: top;\n",
       "    }\n",
       "\n",
       "    .dataframe thead th {\n",
       "        text-align: right;\n",
       "    }\n",
       "</style>\n",
       "<table border=\"1\" class=\"dataframe\">\n",
       "  <thead>\n",
       "    <tr style=\"text-align: right;\">\n",
       "      <th></th>\n",
       "      <th>Name</th>\n",
       "      <th>Marks</th>\n",
       "      <th>Branch</th>\n",
       "    </tr>\n",
       "  </thead>\n",
       "  <tbody>\n",
       "    <tr>\n",
       "      <th>1</th>\n",
       "      <td>Akshay</td>\n",
       "      <td>90</td>\n",
       "      <td>DSE</td>\n",
       "    </tr>\n",
       "    <tr>\n",
       "      <th>2</th>\n",
       "      <td>Anit</td>\n",
       "      <td>91</td>\n",
       "      <td>CSE</td>\n",
       "    </tr>\n",
       "    <tr>\n",
       "      <th>3</th>\n",
       "      <td>Rahul</td>\n",
       "      <td>92</td>\n",
       "      <td>EEE</td>\n",
       "    </tr>\n",
       "    <tr>\n",
       "      <th>4</th>\n",
       "      <td>Amit</td>\n",
       "      <td>93</td>\n",
       "      <td>ECE</td>\n",
       "    </tr>\n",
       "    <tr>\n",
       "      <th>5</th>\n",
       "      <td>Saptarshi</td>\n",
       "      <td>95</td>\n",
       "      <td>EEE</td>\n",
       "    </tr>\n",
       "    <tr>\n",
       "      <th>6</th>\n",
       "      <td>Yuvika</td>\n",
       "      <td>96</td>\n",
       "      <td>BIO</td>\n",
       "    </tr>\n",
       "  </tbody>\n",
       "</table>\n",
       "</div>"
      ],
      "text/plain": [
       "        Name  Marks Branch\n",
       "1     Akshay     90    DSE\n",
       "2       Anit     91    CSE\n",
       "3      Rahul     92    EEE\n",
       "4       Amit     93    ECE\n",
       "5  Saptarshi     95    EEE\n",
       "6     Yuvika     96    BIO"
      ]
     },
     "execution_count": 15,
     "metadata": {},
     "output_type": "execute_result"
    }
   ],
   "source": [
    "#specifying the index in the dataframe\n",
    "df=new=pd.DataFrame(df1,index=[1,2,3,4,5,6])\n",
    "df"
   ]
  },
  {
   "cell_type": "code",
   "execution_count": 17,
   "id": "3941d5e8",
   "metadata": {},
   "outputs": [
    {
     "data": {
      "text/html": [
       "<div>\n",
       "<style scoped>\n",
       "    .dataframe tbody tr th:only-of-type {\n",
       "        vertical-align: middle;\n",
       "    }\n",
       "\n",
       "    .dataframe tbody tr th {\n",
       "        vertical-align: top;\n",
       "    }\n",
       "\n",
       "    .dataframe thead th {\n",
       "        text-align: right;\n",
       "    }\n",
       "</style>\n",
       "<table border=\"1\" class=\"dataframe\">\n",
       "  <thead>\n",
       "    <tr style=\"text-align: right;\">\n",
       "      <th></th>\n",
       "      <th>Name</th>\n",
       "      <th>Marks</th>\n",
       "      <th>Branch</th>\n",
       "      <th>Age</th>\n",
       "    </tr>\n",
       "  </thead>\n",
       "  <tbody>\n",
       "    <tr>\n",
       "      <th>1</th>\n",
       "      <td>Akshay</td>\n",
       "      <td>90</td>\n",
       "      <td>DSE</td>\n",
       "      <td>20</td>\n",
       "    </tr>\n",
       "    <tr>\n",
       "      <th>2</th>\n",
       "      <td>Anit</td>\n",
       "      <td>91</td>\n",
       "      <td>CSE</td>\n",
       "      <td>20</td>\n",
       "    </tr>\n",
       "    <tr>\n",
       "      <th>3</th>\n",
       "      <td>Rahul</td>\n",
       "      <td>92</td>\n",
       "      <td>EEE</td>\n",
       "      <td>20</td>\n",
       "    </tr>\n",
       "    <tr>\n",
       "      <th>4</th>\n",
       "      <td>Amit</td>\n",
       "      <td>93</td>\n",
       "      <td>ECE</td>\n",
       "      <td>20</td>\n",
       "    </tr>\n",
       "    <tr>\n",
       "      <th>5</th>\n",
       "      <td>Saptarshi</td>\n",
       "      <td>95</td>\n",
       "      <td>EEE</td>\n",
       "      <td>19</td>\n",
       "    </tr>\n",
       "    <tr>\n",
       "      <th>6</th>\n",
       "      <td>Yuvika</td>\n",
       "      <td>96</td>\n",
       "      <td>BIO</td>\n",
       "      <td>19</td>\n",
       "    </tr>\n",
       "  </tbody>\n",
       "</table>\n",
       "</div>"
      ],
      "text/plain": [
       "        Name  Marks Branch  Age\n",
       "1     Akshay     90    DSE   20\n",
       "2       Anit     91    CSE   20\n",
       "3      Rahul     92    EEE   20\n",
       "4       Amit     93    ECE   20\n",
       "5  Saptarshi     95    EEE   19\n",
       "6     Yuvika     96    BIO   19"
      ]
     },
     "execution_count": 17,
     "metadata": {},
     "output_type": "execute_result"
    }
   ],
   "source": [
    "#creation of new column\n",
    "df[\"Age\"]=[20,20,20,20,19,19]\n",
    "df"
   ]
  },
  {
   "cell_type": "code",
   "execution_count": 19,
   "id": "3fc12545",
   "metadata": {},
   "outputs": [
    {
     "name": "stdout",
     "output_type": "stream",
     "text": [
      "Minimum marks is:  90\n",
      "Maximum marks is:  96\n",
      "Mean marks is:  92.83333333333333\n",
      "Median marks is:  92.5\n"
     ]
    }
   ],
   "source": [
    "#Print minimum marks and maximum marks.\n",
    "#Print mean and median of marks.\n",
    "\n",
    "print(\"Minimum marks is: \",df['Marks'].min())\n",
    "print(\"Maximum marks is: \",df['Marks'].max())\n",
    "print(\"Mean marks is: \",df['Marks'].mean())\n",
    "print(\"Median marks is: \",df['Marks'].median())"
   ]
  },
  {
   "cell_type": "code",
   "execution_count": 21,
   "id": "7ca9dc54",
   "metadata": {},
   "outputs": [
    {
     "name": "stdout",
     "output_type": "stream",
     "text": [
      "student name is:  Yuvika\n"
     ]
    }
   ],
   "source": [
    "#STUDENT WITH HIGHEST MARKS\n",
    "student=df.loc[df['Marks'].idxmax(),'Name']\n",
    "print(\"student name is: \",student)"
   ]
  },
  {
   "cell_type": "code",
   "execution_count": 33,
   "id": "ce26bfb3",
   "metadata": {},
   "outputs": [
    {
     "name": "stdout",
     "output_type": "stream",
     "text": [
      "Count is:  2\n"
     ]
    },
    {
     "data": {
      "text/html": [
       "<div>\n",
       "<style scoped>\n",
       "    .dataframe tbody tr th:only-of-type {\n",
       "        vertical-align: middle;\n",
       "    }\n",
       "\n",
       "    .dataframe tbody tr th {\n",
       "        vertical-align: top;\n",
       "    }\n",
       "\n",
       "    .dataframe thead th {\n",
       "        text-align: right;\n",
       "    }\n",
       "</style>\n",
       "<table border=\"1\" class=\"dataframe\">\n",
       "  <thead>\n",
       "    <tr style=\"text-align: right;\">\n",
       "      <th></th>\n",
       "      <th>Name</th>\n",
       "      <th>Marks</th>\n",
       "      <th>Branch</th>\n",
       "      <th>Age</th>\n",
       "    </tr>\n",
       "  </thead>\n",
       "  <tbody>\n",
       "    <tr>\n",
       "      <th>3</th>\n",
       "      <td>Rahul</td>\n",
       "      <td>92</td>\n",
       "      <td>EEE</td>\n",
       "      <td>20</td>\n",
       "    </tr>\n",
       "    <tr>\n",
       "      <th>4</th>\n",
       "      <td>Amit</td>\n",
       "      <td>93</td>\n",
       "      <td>ECE</td>\n",
       "      <td>20</td>\n",
       "    </tr>\n",
       "  </tbody>\n",
       "</table>\n",
       "</div>"
      ],
      "text/plain": [
       "    Name  Marks Branch  Age\n",
       "3  Rahul     92    EEE   20\n",
       "4   Amit     93    ECE   20"
      ]
     },
     "execution_count": 33,
     "metadata": {},
     "output_type": "execute_result"
    }
   ],
   "source": [
    "#NAME OF STUDENTS WITH MARKS >90 and <95\n",
    "dfnew=df[df['Marks']>91]\n",
    "dfnew1=dfnew[dfnew['Marks']<95]\n",
    "#dfnew.shape gives the number of rows and columns.\n",
    "print(\"Count is: \",dfnew1.shape[0])\n",
    "dfnew1"
   ]
  },
  {
   "cell_type": "code",
   "execution_count": 31,
   "id": "73a4b166",
   "metadata": {},
   "outputs": [
    {
     "name": "stdout",
     "output_type": "stream",
     "text": [
      "Columns name is:  Index(['Name', 'Marks', 'Branch', 'Age'], dtype='object')\n"
     ]
    }
   ],
   "source": [
    "#PRINTING COLUMN NAMES\n",
    "print(\"Columns name is: \",df.columns)"
   ]
  },
  {
   "cell_type": "code",
   "execution_count": 32,
   "id": "4eae160b",
   "metadata": {},
   "outputs": [
    {
     "name": "stdout",
     "output_type": "stream",
     "text": [
      "Name\n",
      "Marks\n",
      "Branch\n",
      "Age\n"
     ]
    }
   ],
   "source": [
    "#PRINTING COLUMN NAMES IN DIFFERENT LINES\n",
    "for col in df.columns:\n",
    "    print(col)"
   ]
  },
  {
   "cell_type": "code",
   "execution_count": 35,
   "id": "646461e1",
   "metadata": {},
   "outputs": [
    {
     "data": {
      "text/html": [
       "<div>\n",
       "<style scoped>\n",
       "    .dataframe tbody tr th:only-of-type {\n",
       "        vertical-align: middle;\n",
       "    }\n",
       "\n",
       "    .dataframe tbody tr th {\n",
       "        vertical-align: top;\n",
       "    }\n",
       "\n",
       "    .dataframe thead th {\n",
       "        text-align: right;\n",
       "    }\n",
       "</style>\n",
       "<table border=\"1\" class=\"dataframe\">\n",
       "  <thead>\n",
       "    <tr style=\"text-align: right;\">\n",
       "      <th></th>\n",
       "      <th>Name</th>\n",
       "      <th>Marks</th>\n",
       "      <th>Branch</th>\n",
       "      <th>Age</th>\n",
       "    </tr>\n",
       "  </thead>\n",
       "  <tbody>\n",
       "    <tr>\n",
       "      <th>3</th>\n",
       "      <td>Rahul</td>\n",
       "      <td>92</td>\n",
       "      <td>EEE</td>\n",
       "      <td>20</td>\n",
       "    </tr>\n",
       "    <tr>\n",
       "      <th>4</th>\n",
       "      <td>Amit</td>\n",
       "      <td>93</td>\n",
       "      <td>ECE</td>\n",
       "      <td>20</td>\n",
       "    </tr>\n",
       "  </tbody>\n",
       "</table>\n",
       "</div>"
      ],
      "text/plain": [
       "    Name  Marks Branch  Age\n",
       "3  Rahul     92    EEE   20\n",
       "4   Amit     93    ECE   20"
      ]
     },
     "execution_count": 35,
     "metadata": {},
     "output_type": "execute_result"
    }
   ],
   "source": [
    "#SHOW THE 2ND AND 3RD ROW\n",
    "df.iloc[2:4]"
   ]
  },
  {
   "cell_type": "code",
   "execution_count": 39,
   "id": "bc5f06cd",
   "metadata": {},
   "outputs": [
    {
     "name": "stdout",
     "output_type": "stream",
     "text": [
      "Contents of 2nd column:  Branch\n",
      "Contents of 3rd column:  Age\n"
     ]
    },
    {
     "data": {
      "text/plain": [
       "1    20\n",
       "2    20\n",
       "3    20\n",
       "4    20\n",
       "5    19\n",
       "6    19\n",
       "Name: Age, dtype: int64"
      ]
     },
     "execution_count": 39,
     "metadata": {},
     "output_type": "execute_result"
    }
   ],
   "source": [
    "#SHOW THE contents of 2ND AND 3RD COLUMN\n",
    "print(\"Contents of 2nd column: \",df.columns[2])\n",
    "df[df.columns[2]]\n",
    "print(\"Contents of 3rd column: \",df.columns[3])\n",
    "df[df.columns[3]]"
   ]
  },
  {
   "cell_type": "code",
   "execution_count": 40,
   "id": "1daf1a12",
   "metadata": {},
   "outputs": [],
   "source": [
    "#CONCEPTS TO BE REMEMBERED"
   ]
  }
 ],
 "metadata": {
  "kernelspec": {
   "display_name": "Python 3 (ipykernel)",
   "language": "python",
   "name": "python3"
  },
  "language_info": {
   "codemirror_mode": {
    "name": "ipython",
    "version": 3
   },
   "file_extension": ".py",
   "mimetype": "text/x-python",
   "name": "python",
   "nbconvert_exporter": "python",
   "pygments_lexer": "ipython3",
   "version": "3.9.12"
  }
 },
 "nbformat": 4,
 "nbformat_minor": 5
}
