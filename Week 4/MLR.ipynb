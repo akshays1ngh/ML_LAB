{
 "cells": [
  {
   "cell_type": "code",
   "execution_count": 53,
   "id": "0d3c1520",
   "metadata": {},
   "outputs": [],
   "source": [
    "#import necessary libraries\n",
    "import numpy as np\n",
    "import pandas as pd\n",
    "from sklearn.model_selection import train_test_split\n",
    "from sklearn.linear_model import LinearRegression\n",
    "from sklearn.metrics import r2_score\n",
    "import matplotlib.pyplot as plt\n",
    "from sklearn.metrics import mean_absolute_error, mean_squared_error"
   ]
  },
  {
   "cell_type": "code",
   "execution_count": 54,
   "id": "4a56108b",
   "metadata": {},
   "outputs": [
    {
     "data": {
      "text/html": [
       "<div>\n",
       "<style scoped>\n",
       "    .dataframe tbody tr th:only-of-type {\n",
       "        vertical-align: middle;\n",
       "    }\n",
       "\n",
       "    .dataframe tbody tr th {\n",
       "        vertical-align: top;\n",
       "    }\n",
       "\n",
       "    .dataframe thead th {\n",
       "        text-align: right;\n",
       "    }\n",
       "</style>\n",
       "<table border=\"1\" class=\"dataframe\">\n",
       "  <thead>\n",
       "    <tr style=\"text-align: right;\">\n",
       "      <th></th>\n",
       "      <th>cgpa</th>\n",
       "      <th>iq</th>\n",
       "      <th>package</th>\n",
       "    </tr>\n",
       "  </thead>\n",
       "  <tbody>\n",
       "    <tr>\n",
       "      <th>0</th>\n",
       "      <td>6.7</td>\n",
       "      <td>100</td>\n",
       "      <td>3.5</td>\n",
       "    </tr>\n",
       "    <tr>\n",
       "      <th>1</th>\n",
       "      <td>6.8</td>\n",
       "      <td>89</td>\n",
       "      <td>5.0</td>\n",
       "    </tr>\n",
       "    <tr>\n",
       "      <th>2</th>\n",
       "      <td>8.4</td>\n",
       "      <td>115</td>\n",
       "      <td>8.0</td>\n",
       "    </tr>\n",
       "    <tr>\n",
       "      <th>3</th>\n",
       "      <td>9.8</td>\n",
       "      <td>99</td>\n",
       "      <td>15.0</td>\n",
       "    </tr>\n",
       "    <tr>\n",
       "      <th>4</th>\n",
       "      <td>7.7</td>\n",
       "      <td>103</td>\n",
       "      <td>8.0</td>\n",
       "    </tr>\n",
       "  </tbody>\n",
       "</table>\n",
       "</div>"
      ],
      "text/plain": [
       "   cgpa   iq  package\n",
       "0   6.7  100      3.5\n",
       "1   6.8   89      5.0\n",
       "2   8.4  115      8.0\n",
       "3   9.8   99     15.0\n",
       "4   7.7  103      8.0"
      ]
     },
     "execution_count": 54,
     "metadata": {},
     "output_type": "execute_result"
    }
   ],
   "source": [
    "df1={'cgpa':[6.7,6.8,8.4,9.8,7.7,7.0,8.3,6.8,8.9,8.57],\n",
    "     'iq':[100,89,115,99,103,130,126,90,119,135],\n",
    "     'package':[3.5,5,8,15,8,9,13,6,18,20]}\n",
    "df=pd.DataFrame(df1)\n",
    "\n",
    "#split the data into training and testing sets\n",
    "X = df.drop(columns='iq')\n",
    "y = df['iq']\n",
    "X_train, X_test, Y_train, Y_test = train_test_split(X, y, test_size=0.2, random_state=2)\n",
    "\n",
    "df.head()"
   ]
  },
  {
   "cell_type": "code",
   "execution_count": 55,
   "id": "05552e97",
   "metadata": {},
   "outputs": [
    {
     "data": {
      "text/plain": [
       "LinearRegression()"
      ]
     },
     "execution_count": 55,
     "metadata": {},
     "output_type": "execute_result"
    }
   ],
   "source": [
    "#create linear regression model and fit it on the training data\n",
    "mlr = LinearRegression()\n",
    "mlr.fit(X_train,Y_train)"
   ]
  },
  {
   "cell_type": "code",
   "execution_count": 56,
   "id": "0573850c",
   "metadata": {},
   "outputs": [
    {
     "name": "stdout",
     "output_type": "stream",
     "text": [
      "slope = [-8.84059062  2.85809066] \n",
      "and intercept = 152.44743645296498\n"
     ]
    }
   ],
   "source": [
    "#get the slope and intercept of the linear regression line\n",
    "m = mlr.coef_\n",
    "c = mlr.intercept_\n",
    "\n",
    "print('slope =', m, \"\\nand intercept =\", c)"
   ]
  },
  {
   "cell_type": "code",
   "execution_count": 57,
   "id": "9729e1c3",
   "metadata": {},
   "outputs": [
    {
     "data": {
      "text/plain": [
       "array([116.28611801, 103.21879658, 109.47996416, 101.05120048,\n",
       "       108.68100821, 116.22571283, 133.84538798, 125.21181175])"
      ]
     },
     "execution_count": 57,
     "metadata": {},
     "output_type": "execute_result"
    }
   ],
   "source": [
    "#predict the grades for the training data\n",
    "Y_pred_train = mlr.predict(X_train)\n",
    "Y_pred_train"
   ]
  },
  {
   "cell_type": "code",
   "execution_count": 58,
   "id": "3a9cf56e",
   "metadata": {},
   "outputs": [
    {
     "data": {
      "text/plain": [
       "0.46249124432127897"
      ]
     },
     "execution_count": 58,
     "metadata": {},
     "output_type": "execute_result"
    }
   ],
   "source": [
    "#calculate the R-squared score for the training data\n",
    "r2_train = r2_score(Y_train, Y_pred_train)\n",
    "r2_train"
   ]
  },
  {
   "cell_type": "code",
   "execution_count": 59,
   "id": "23223b33",
   "metadata": {},
   "outputs": [
    {
     "data": {
      "image/png": "[encoded data removed]",
      "text/plain": [
       "<Figure size 432x288 with 1 Axes>"
      ]
     },
     "metadata": {
      "needs_background": "light"
     },
     "output_type": "display_data"
    }
   ],
   "source": [
    "#plot a scatter plot of actual vs predicted grades for the training data\n",
    "plt.scatter(Y_train, Y_pred_train, color='blue')\n",
    "plt.xlabel('Actual')\n",
    "plt.ylabel('Predicted')\n",
    "plt.title('Actual vs Predicted for Training Data')\n",
    "x = np.linspace(0, np.max(Y_train))\n",
    "plt.plot(x, x, color='green', linewidth=3)\n",
    "plt.show()"
   ]
  },
  {
   "cell_type": "code",
   "execution_count": 60,
   "id": "d9707df7",
   "metadata": {},
   "outputs": [
    {
     "data": {
      "text/plain": [
       "array([107.23961392, 106.6218735 ])"
      ]
     },
     "execution_count": 60,
     "metadata": {},
     "output_type": "execute_result"
    }
   ],
   "source": [
    "#predict the grades for the testing data\n",
    "Y_pred_test = mlr.predict(X_test)\n",
    "Y_pred_test"
   ]
  },
  {
   "cell_type": "code",
   "execution_count": 61,
   "id": "91476597",
   "metadata": {},
   "outputs": [
    {
     "data": {
      "text/plain": [
       "-2.352089304452769"
      ]
     },
     "execution_count": 61,
     "metadata": {},
     "output_type": "execute_result"
    }
   ],
   "source": [
    "#calculate the R-squared score for the testing data\n",
    "r2_test = r2_score(Y_test, Y_pred_test)\n",
    "r2_test"
   ]
  },
  {
   "cell_type": "code",
   "execution_count": 62,
   "id": "d845acdb",
   "metadata": {},
   "outputs": [
    {
     "data": {
      "image/png": "[encoded data removed]",
      "text/plain": [
       "<Figure size 432x288 with 1 Axes>"
      ]
     },
     "metadata": {
      "needs_background": "light"
     },
     "output_type": "display_data"
    }
   ],
   "source": [
    "#plot a scatter plot of actual vs predicted grades for the testing data\n",
    "plt.scatter(Y_test, Y_pred_test, color='blue')\n",
    "plt.xlabel('Actual')\n",
    "plt.ylabel('Predicted')\n",
    "plt.title('Actual vs Predicted for Testing Data')\n",
    "x = np.linspace(0, np.max(Y_test))\n",
    "plt.plot(x, x, color='pink', linewidth=3)\n",
    "plt.show()"
   ]
  },
  {
   "cell_type": "code",
   "execution_count": 63,
   "id": "38d2fe51",
   "metadata": {},
   "outputs": [
    {
     "name": "stderr",
     "output_type": "stream",
     "text": [
      "C:\\ProgramData\\Anaconda3\\lib\\site-packages\\sklearn\\base.py:450: UserWarning: X does not have valid feature names, but LinearRegression was fitted with feature names\n",
      "  warnings.warn(\n"
     ]
    },
    {
     "data": {
      "text/plain": [
       "array([655.99302037])"
      ]
     },
     "execution_count": 63,
     "metadata": {},
     "output_type": "execute_result"
    }
   ],
   "source": [
    "#predict the output for a new datapoint\n",
    "new_data = [[7.7,200]]\n",
    "new_prediction = mlr.predict(new_data)\n",
    "new_prediction"
   ]
  },
  {
   "cell_type": "code",
   "execution_count": 64,
   "id": "633e1b3b",
   "metadata": {},
   "outputs": [],
   "source": [
    "#create a DataFrame to compare the actual vs predicted values\n",
    "pred_df = pd.DataFrame({\n",
    "    'Actual Value': Y_test.ravel(),\n",
    "    'Predicted Value': Y_pred_test.ravel(),\n",
    "    'Difference': (Y_test - Y_pred_test).ravel()\n",
    "})"
   ]
  },
  {
   "cell_type": "code",
   "execution_count": 65,
   "id": "5de5023d",
   "metadata": {},
   "outputs": [
    {
     "name": "stdout",
     "output_type": "stream",
     "text": [
      "   Actual Value  Predicted Value  Difference\n",
      "0           103       107.239614   -4.239614\n",
      "1            89       106.621874  -17.621874\n",
      "R-squared score for training data: 0.46249124432127897\n",
      "R-squared score for testing data: -2.352089304452769\n"
     ]
    }
   ],
   "source": [
    "#print the DataFrame and R-squared scores for both training and testing data\n",
    "print(pred_df.head())\n",
    "print(f'R-squared score for training data: {r2_train}')\n",
    "print(f'R-squared score for testing data: {r2_test}')"
   ]
  },
  {
   "cell_type": "code",
   "execution_count": 66,
   "id": "2034efa4",
   "metadata": {},
   "outputs": [
    {
     "data": {
      "text/plain": [
       "10.930743708077301"
      ]
     },
     "execution_count": 66,
     "metadata": {},
     "output_type": "execute_result"
    }
   ],
   "source": [
    " #calculate Mean Absolute Error using inbuilt function\n",
    "mae_inbuilt = mean_absolute_error(Y_test, Y_pred_test)\n",
    "mae_inbuilt"
   ]
  },
  {
   "cell_type": "code",
   "execution_count": 67,
   "id": "b03da1d3",
   "metadata": {},
   "outputs": [
    {
     "data": {
      "text/plain": [
       "164.2523759181857"
      ]
     },
     "execution_count": 67,
     "metadata": {},
     "output_type": "execute_result"
    }
   ],
   "source": [
    "#calculate Mean Squared Error using inbuilt function\n",
    "mse_inbuilt = mean_squared_error(Y_test, Y_pred_test)\n",
    "mse_inbuilt"
   ]
  },
  {
   "cell_type": "code",
   "execution_count": 68,
   "id": "6c3b904f",
   "metadata": {},
   "outputs": [
    {
     "data": {
      "text/plain": [
       "328.5047518363714"
      ]
     },
     "execution_count": 68,
     "metadata": {},
     "output_type": "execute_result"
    }
   ],
   "source": [
    "#calculate Sum of Squared Residuals\n",
    "ssr = ((Y_pred_test - Y_test)**2).sum()\n",
    "ssr"
   ]
  }
 ],
 "metadata": {
  "kernelspec": {
   "display_name": "Python 3 (ipykernel)",
   "language": "python",
   "name": "python3"
  },
  "language_info": {
   "codemirror_mode": {
    "name": "ipython",
    "version": 3
   },
   "file_extension": ".py",
   "mimetype": "text/x-python",
   "name": "python",
   "nbconvert_exporter": "python",
   "pygments_lexer": "ipython3",
   "version": "3.9.12"
  }
 },
 "nbformat": 4,
 "nbformat_minor": 5
}
